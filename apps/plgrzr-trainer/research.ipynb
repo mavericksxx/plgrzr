{
 "cells": [
  {
   "cell_type": "code",
   "execution_count": 1,
   "metadata": {},
   "outputs": [
    {
     "ename": "ModuleNotFoundError",
     "evalue": "No module named 'cv2'",
     "output_type": "error",
     "traceback": [
      "\u001b[1;31m---------------------------------------------------------------------------\u001b[0m",
      "\u001b[1;31mModuleNotFoundError\u001b[0m                       Traceback (most recent call last)",
      "Cell \u001b[1;32mIn[1], line 1\u001b[0m\n\u001b[1;32m----> 1\u001b[0m \u001b[38;5;28;01mimport\u001b[39;00m \u001b[38;5;21;01mcv2\u001b[39;00m\n\u001b[0;32m      2\u001b[0m \u001b[38;5;28;01mimport\u001b[39;00m \u001b[38;5;21;01mmatplotlib\u001b[39;00m\u001b[38;5;21;01m.\u001b[39;00m\u001b[38;5;21;01mpyplot\u001b[39;00m \u001b[38;5;28;01mas\u001b[39;00m \u001b[38;5;21;01mplt\u001b[39;00m\n\u001b[0;32m      3\u001b[0m \u001b[38;5;28;01mfrom\u001b[39;00m \u001b[38;5;21;01mPIL\u001b[39;00m \u001b[38;5;28;01mimport\u001b[39;00m Image\n",
      "\u001b[1;31mModuleNotFoundError\u001b[0m: No module named 'cv2'"
     ]
    }
   ],
   "source": [
    "import cv2\n",
    "import matplotlib.pyplot as plt\n",
    "from PIL import Image\n",
    "import numpy as np\n",
    "from doctr.io import DocumentFile\n",
    "from doctr.models import ocr_predictor\n",
    "\n",
    "def visualize_word_regions(image_path):\n",
    "    # Read the image\n",
    "    if isinstance(image_path, str):\n",
    "        img = cv2.imread(image_path)\n",
    "        img_rgb = cv2.cvtColor(img, cv2.COLOR_BGR2RGB)\n",
    "    else:\n",
    "        img = image_path.copy()\n",
    "        img_rgb = cv2.cvtColor(img, cv2.COLOR_BGR2RGB)\n",
    "    \n",
    "    # Initialize the OCR predictor\n",
    "    model = ocr_predictor(pretrained=True)\n",
    "    \n",
    "    # Save temporary image for doctr\n",
    "    pil_image = Image.fromarray(img_rgb)\n",
    "    temp_path = \"temp_image.png\"\n",
    "    pil_image.save(temp_path)\n",
    "    \n",
    "    # Process with doctr\n",
    "    doc = DocumentFile.from_images(temp_path)\n",
    "    result = model(doc)\n",
    "    \n",
    "    # Create a copy for visualization\n",
    "    viz_img = img_rgb.copy()\n",
    "    \n",
    "    # Draw boxes for each word\n",
    "    for page in result.pages:\n",
    "        for block in page.blocks:\n",
    "            for line in block.lines:\n",
    "                for word in line.words:\n",
    "                    # Get coordinates\n",
    "                    geometry = word.geometry\n",
    "                    h, w = viz_img.shape[:2]\n",
    "                    \n",
    "                    # Convert relative coordinates to absolute pixels\n",
    "                    x1 = int(geometry[0][0] * w)\n",
    "                    y1 = int(geometry[0][1] * h)\n",
    "                    x2 = int(geometry[1][0] * w)\n",
    "                    y2 = int(geometry[1][1] * h)\n",
    "                    \n",
    "                    # Draw rectangle\n",
    "                    cv2.rectangle(viz_img, (x1, y1), (x2, y2), (255, 0, 0), 2)\n",
    "    \n",
    "    # Plot the results\n",
    "    plt.figure(figsize=(20, 20))\n",
    "    plt.imshow(viz_img)\n",
    "    plt.axis('off')\n",
    "    plt.title('Detected Word Regions')\n",
    "    plt.show()\n",
    "    \n",
    "    # Clean up\n",
    "    import os\n",
    "    if os.path.exists(temp_path):\n",
    "        os.remove(temp_path)\n",
    "        \n",
    "    return viz_img"
   ]
  }
 ],
 "metadata": {
  "kernelspec": {
   "display_name": "Python 3",
   "language": "python",
   "name": "python3"
  },
  "language_info": {
   "codemirror_mode": {
    "name": "ipython",
    "version": 3
   },
   "file_extension": ".py",
   "mimetype": "text/x-python",
   "name": "python",
   "nbconvert_exporter": "python",
   "pygments_lexer": "ipython3",
   "version": "3.11.8"
  }
 },
 "nbformat": 4,
 "nbformat_minor": 2
}
